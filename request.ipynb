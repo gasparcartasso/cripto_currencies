{
 "cells": [
  {
   "cell_type": "code",
   "execution_count": 9,
   "id": "6b6007a8",
   "metadata": {},
   "outputs": [
    {
     "name": "stdout",
     "output_type": "stream",
     "text": [
      "Bitcoin Price (USD): 106922\n",
      "Ethereum Price (USD): 3874.28\n"
     ]
    }
   ],
   "source": [
    "import requests\n",
    "\n",
    "url = \"https://api.coingecko.com/api/v3/simple/price\"\n",
    "params = {\n",
    "    \"ids\": \"bitcoin,ethereum\",\n",
    "    \"vs_currencies\": \"usd\"\n",
    "}\n",
    "\n",
    "response = requests.get(url, params=params)\n",
    "data = response.json()\n",
    "\n",
    "print(\"Bitcoin Price (USD):\", data[\"bitcoin\"][\"usd\"])\n",
    "print(\"Ethereum Price (USD):\", data[\"ethereum\"][\"usd\"])"
   ]
  },
  {
   "cell_type": "code",
   "execution_count": null,
   "id": "7a31ed05",
   "metadata": {},
   "outputs": [],
   "source": []
  }
 ],
 "metadata": {
  "kernelspec": {
   "display_name": "traffic-sydney",
   "language": "python",
   "name": "python3"
  },
  "language_info": {
   "codemirror_mode": {
    "name": "ipython",
    "version": 3
   },
   "file_extension": ".py",
   "mimetype": "text/x-python",
   "name": "python",
   "nbconvert_exporter": "python",
   "pygments_lexer": "ipython3",
   "version": "3.14.0"
  }
 },
 "nbformat": 4,
 "nbformat_minor": 5
}
