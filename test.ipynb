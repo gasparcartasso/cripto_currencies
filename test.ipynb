{
 "cells": [
  {
   "cell_type": "code",
   "execution_count": 40,
   "id": "495a4c43",
   "metadata": {},
   "outputs": [],
   "source": [
    "import requests\n",
    "import datetime as dt\n",
    "import pandas as pd\n",
    "def get_prices():\n",
    "    date = dt.date.today().strftime(\"%d-%m-%Y\")\n",
    "    currencies=['bitcoin','ethereum','tether','solana']\n",
    "    df_price = pd.DataFrame()\n",
    "    for currency in currencies:\n",
    "        print(currency)\n",
    "        url = f\"https://api.coingecko.com/api/v3/coins/{currency}/history\"\n",
    "        params = {\n",
    "        \"date\": f\"{date}\",  # Format: DD-MM-YYYY\n",
    "        \"localization\": \"false\"\n",
    "        }\n",
    "        response = requests.get(url, params=params)\n",
    "        data = response.json()\n",
    "        df_price = pd.concat([df_price,pd.DataFrame({'usd':data['market_data']['current_price']['usd'],'cripto':[currency]})],ignore_index=True)\n",
    "    df_price['date']=date\n",
    "    return df_price"
   ]
  },
  {
   "cell_type": "code",
   "execution_count": 3,
   "id": "3515079c",
   "metadata": {},
   "outputs": [
    {
     "data": {
      "text/html": [
       "<div>\n",
       "<style scoped>\n",
       "    .dataframe tbody tr th:only-of-type {\n",
       "        vertical-align: middle;\n",
       "    }\n",
       "\n",
       "    .dataframe tbody tr th {\n",
       "        vertical-align: top;\n",
       "    }\n",
       "\n",
       "    .dataframe thead th {\n",
       "        text-align: right;\n",
       "    }\n",
       "</style>\n",
       "<table border=\"1\" class=\"dataframe\">\n",
       "  <thead>\n",
       "    <tr style=\"text-align: right;\">\n",
       "      <th></th>\n",
       "      <th>usd</th>\n",
       "      <th>cripto</th>\n",
       "      <th>date</th>\n",
       "    </tr>\n",
       "  </thead>\n",
       "  <tbody>\n",
       "    <tr>\n",
       "      <th>0</th>\n",
       "      <td>109573.905556</td>\n",
       "      <td>bitcoin</td>\n",
       "      <td>01-11-2025</td>\n",
       "    </tr>\n",
       "    <tr>\n",
       "      <th>1</th>\n",
       "      <td>3847.298177</td>\n",
       "      <td>ethereum</td>\n",
       "      <td>01-11-2025</td>\n",
       "    </tr>\n",
       "    <tr>\n",
       "      <th>2</th>\n",
       "      <td>0.999761</td>\n",
       "      <td>tether</td>\n",
       "      <td>01-11-2025</td>\n",
       "    </tr>\n",
       "    <tr>\n",
       "      <th>3</th>\n",
       "      <td>187.262747</td>\n",
       "      <td>solana</td>\n",
       "      <td>01-11-2025</td>\n",
       "    </tr>\n",
       "  </tbody>\n",
       "</table>\n",
       "</div>"
      ],
      "text/plain": [
       "             usd    cripto        date\n",
       "0  109573.905556   bitcoin  01-11-2025\n",
       "1    3847.298177  ethereum  01-11-2025\n",
       "2       0.999761    tether  01-11-2025\n",
       "3     187.262747    solana  01-11-2025"
      ]
     },
     "execution_count": 3,
     "metadata": {},
     "output_type": "execute_result"
    }
   ],
   "source": [
    "import requests\n",
    "import datetime as dt\n",
    "import pandas as pd\n",
    "import json\n",
    "def get_prices():\n",
    "    \"\"\"\n",
    "    Gets the prices of the relevant cripto currencies of a certain date and returns their values.\n",
    "    Returns (pd.DataFrame)\n",
    "    \"\"\"\n",
    "    date = dt.date.today().strftime(\"%d-%m-%Y\")\n",
    "    with open('currencies_to_extract.json','r') as f:\n",
    "        currencies=json.load(f)['currencies']\n",
    "    df_price = pd.DataFrame()\n",
    "    for currency in currencies:\n",
    "        url = f\"https://api.coingecko.com/api/v3/coins/{currency}/history\"\n",
    "        params = {\n",
    "        \"date\": f\"{date}\",  # Format: DD-MM-YYYY\n",
    "        \"localization\": \"false\"\n",
    "        }\n",
    "        response = requests.get(url, params=params)\n",
    "        data = response.json()\n",
    "        df_price = pd.concat([df_price,pd.DataFrame({'usd':data['market_data']['current_price']['usd'],'cripto':[currency]})],ignore_index=True)\n",
    "    df_price['date']=date\n",
    "    return df_price\n",
    "get_prices()"
   ]
  },
  {
   "cell_type": "code",
   "execution_count": 41,
   "id": "57a0ad94",
   "metadata": {},
   "outputs": [
    {
     "name": "stdout",
     "output_type": "stream",
     "text": [
      "bitcoin\n"
     ]
    },
    {
     "ename": "KeyError",
     "evalue": "'market_data'",
     "output_type": "error",
     "traceback": [
      "\u001b[31m---------------------------------------------------------------------------\u001b[39m",
      "\u001b[31mKeyError\u001b[39m                                  Traceback (most recent call last)",
      "\u001b[36mCell\u001b[39m\u001b[36m \u001b[39m\u001b[32mIn[41]\u001b[39m\u001b[32m, line 1\u001b[39m\n\u001b[32m----> \u001b[39m\u001b[32m1\u001b[39m \u001b[43mget_prices\u001b[49m\u001b[43m(\u001b[49m\u001b[43m)\u001b[49m\n",
      "\u001b[36mCell\u001b[39m\u001b[36m \u001b[39m\u001b[32mIn[40]\u001b[39m\u001b[32m, line 17\u001b[39m, in \u001b[36mget_prices\u001b[39m\u001b[34m()\u001b[39m\n\u001b[32m     15\u001b[39m     response = requests.get(url, params=params)\n\u001b[32m     16\u001b[39m     data = response.json()\n\u001b[32m---> \u001b[39m\u001b[32m17\u001b[39m     df_price = pd.concat([df_price,pd.DataFrame({\u001b[33m'\u001b[39m\u001b[33musd\u001b[39m\u001b[33m'\u001b[39m:\u001b[43mdata\u001b[49m\u001b[43m[\u001b[49m\u001b[33;43m'\u001b[39;49m\u001b[33;43mmarket_data\u001b[39;49m\u001b[33;43m'\u001b[39;49m\u001b[43m]\u001b[49m[\u001b[33m'\u001b[39m\u001b[33mcurrent_price\u001b[39m\u001b[33m'\u001b[39m][\u001b[33m'\u001b[39m\u001b[33musd\u001b[39m\u001b[33m'\u001b[39m],\u001b[33m'\u001b[39m\u001b[33mcripto\u001b[39m\u001b[33m'\u001b[39m:[currency]})],ignore_index=\u001b[38;5;28;01mTrue\u001b[39;00m)\n\u001b[32m     18\u001b[39m df_price[\u001b[33m'\u001b[39m\u001b[33mdate\u001b[39m\u001b[33m'\u001b[39m]=date\n\u001b[32m     19\u001b[39m \u001b[38;5;28;01mreturn\u001b[39;00m df_price\n",
      "\u001b[31mKeyError\u001b[39m: 'market_data'"
     ]
    }
   ],
   "source": [
    "get_prices()"
   ]
  },
  {
   "cell_type": "code",
   "execution_count": 48,
   "id": "450dc67c",
   "metadata": {},
   "outputs": [],
   "source": [
    "def get_max_52w_rolling(history):\n",
    "    \"\"\"\n",
    "    This function gets a 52 week rolling max of the currency\n",
    "    Arg (pd.DataFrame): history to analyse\n",
    "    Return (pd.DataFrame): max by date of each cripto currency\n",
    "    \"\"\"\n",
    "    currencies = history['cripto'].unique()\n",
    "    price_max=pd.DataFrame()\n",
    "    for currency in currencies:\n",
    "        price_max = pd.concat([price_max,pd.DataFrame({'usd_max_year':history[history['cripto']==currency].sort_values(by='date',ascending=True)['usd'].rolling(window=365,min_periods=1).mean(),'crito':history[history['cripto']==currency].sort_values(by='date',ascending=True)['cripto'],'date':history[history['cripto']==currency].sort_values(by='date',ascending=True)['date']})],ignore_index=True)\n",
    "    return price_max"
   ]
  },
  {
   "cell_type": "code",
   "execution_count": 49,
   "id": "dfada067",
   "metadata": {},
   "outputs": [
    {
     "name": "stdout",
     "output_type": "stream",
     "text": [
      "bitcoin\n",
      "ethereum\n",
      "tether\n",
      "solana\n"
     ]
    },
    {
     "data": {
      "text/html": [
       "<div>\n",
       "<style scoped>\n",
       "    .dataframe tbody tr th:only-of-type {\n",
       "        vertical-align: middle;\n",
       "    }\n",
       "\n",
       "    .dataframe tbody tr th {\n",
       "        vertical-align: top;\n",
       "    }\n",
       "\n",
       "    .dataframe thead th {\n",
       "        text-align: right;\n",
       "    }\n",
       "</style>\n",
       "<table border=\"1\" class=\"dataframe\">\n",
       "  <thead>\n",
       "    <tr style=\"text-align: right;\">\n",
       "      <th></th>\n",
       "      <th>usd_max_year</th>\n",
       "      <th>crito</th>\n",
       "      <th>date</th>\n",
       "    </tr>\n",
       "  </thead>\n",
       "  <tbody>\n",
       "    <tr>\n",
       "      <th>0</th>\n",
       "      <td>111620.309373</td>\n",
       "      <td>bitcoin</td>\n",
       "      <td>26-10-2025</td>\n",
       "    </tr>\n",
       "    <tr>\n",
       "      <th>1</th>\n",
       "      <td>3952.213558</td>\n",
       "      <td>ethereum</td>\n",
       "      <td>26-10-2025</td>\n",
       "    </tr>\n",
       "    <tr>\n",
       "      <th>2</th>\n",
       "      <td>1.000377</td>\n",
       "      <td>tether</td>\n",
       "      <td>26-10-2025</td>\n",
       "    </tr>\n",
       "    <tr>\n",
       "      <th>3</th>\n",
       "      <td>194.011016</td>\n",
       "      <td>solana</td>\n",
       "      <td>26-10-2025</td>\n",
       "    </tr>\n",
       "  </tbody>\n",
       "</table>\n",
       "</div>"
      ],
      "text/plain": [
       "    usd_max_year     crito        date\n",
       "0  111620.309373   bitcoin  26-10-2025\n",
       "1    3952.213558  ethereum  26-10-2025\n",
       "2       1.000377    tether  26-10-2025\n",
       "3     194.011016    solana  26-10-2025"
      ]
     },
     "execution_count": 49,
     "metadata": {},
     "output_type": "execute_result"
    }
   ],
   "source": [
    "get_max_52w_rolling(get_prices())"
   ]
  },
  {
   "cell_type": "code",
   "execution_count": null,
   "id": "0b55d2fe",
   "metadata": {},
   "outputs": [],
   "source": []
  }
 ],
 "metadata": {
  "kernelspec": {
   "display_name": "traffic-sydney",
   "language": "python",
   "name": "python3"
  },
  "language_info": {
   "codemirror_mode": {
    "name": "ipython",
    "version": 3
   },
   "file_extension": ".py",
   "mimetype": "text/x-python",
   "name": "python",
   "nbconvert_exporter": "python",
   "pygments_lexer": "ipython3",
   "version": "3.12.12"
  }
 },
 "nbformat": 4,
 "nbformat_minor": 5
}
